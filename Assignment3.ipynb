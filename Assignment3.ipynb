{
 "cells": [
  {
   "cell_type": "markdown",
   "metadata": {},
   "source": [
    "# Assignment 3 - Data Structures (Callables)"
   ]
  },
  {
   "cell_type": "markdown",
   "metadata": {},
   "source": [
    "\n",
    "- Create a docstring for each function and class that you might be creating."
   ]
  },
  {
   "cell_type": "markdown",
   "metadata": {},
   "source": [
    "## User Functions"
   ]
  },
  {
   "cell_type": "markdown",
   "metadata": {},
   "source": [
    "### Extract Numbers"
   ]
  },
  {
   "cell_type": "code",
   "execution_count": 1,
   "metadata": {},
   "outputs": [],
   "source": [
    "sample_string = '[0p327>yt<2o|%1_060n$\\n'"
   ]
  },
  {
   "cell_type": "markdown",
   "metadata": {},
   "source": [
    "Create a function with name `initate_cleanup` and make it to print `Starting cleanup!` text."
   ]
  },
  {
   "cell_type": "code",
   "execution_count": 2,
   "metadata": {},
   "outputs": [],
   "source": [
    "# this is my comment for this function\n",
    "def initiate_cleanup():\n",
    "    \"\"\"\n",
    "    Basic function creation.\n",
    "    \"\"\"\n",
    "    print('Starting cleanup!')\n",
    "    return 'Starting cleanup'"
   ]
  },
  {
   "cell_type": "markdown",
   "metadata": {},
   "source": [
    "Use `initiate_cleanup` function."
   ]
  },
  {
   "cell_type": "code",
   "execution_count": 3,
   "metadata": {},
   "outputs": [
    {
     "name": "stdout",
     "output_type": "stream",
     "text": [
      "Starting cleanup!\n"
     ]
    },
    {
     "data": {
      "text/plain": [
       "'Starting cleanup'"
      ]
     },
     "execution_count": 3,
     "metadata": {},
     "output_type": "execute_result"
    }
   ],
   "source": [
    "initiate_cleanup()"
   ]
  },
  {
   "cell_type": "code",
   "execution_count": 4,
   "metadata": {},
   "outputs": [
    {
     "name": "stdout",
     "output_type": "stream",
     "text": [
      "[\n",
      "0\n",
      "p\n",
      "3\n",
      "2\n",
      "7\n",
      ">\n",
      "y\n",
      "t\n",
      "<\n",
      "2\n",
      "o\n",
      "|\n",
      "%\n",
      "1\n",
      "_\n",
      "0\n",
      "6\n",
      "0\n",
      "n\n",
      "$\n",
      "\n",
      "\n"
     ]
    }
   ],
   "source": [
    "'2'.isdigit(), 'S'.isdigit(), '&'.isdigit()\n",
    "'23'.isdigit(), 'S2'.isdigit(), '&'.isdigit()\n",
    "for letter in sample_string:\n",
    "    print(letter)"
   ]
  },
  {
   "cell_type": "markdown",
   "metadata": {},
   "source": [
    "Create a function with name `extract_numbers` that extracts numbers from any given string:\n",
    "    \n",
    "- Function should get one argument, `input_string`.\n",
    "- Function should return a list of characters that are digits.\n",
    "\n",
    "**Hint:** You can use `str.isdigit()` to check if character is a digit."
   ]
  },
  {
   "cell_type": "code",
   "execution_count": 5,
   "metadata": {},
   "outputs": [],
   "source": [
    "def extract_numbers(input_string):\n",
    "    \"\"\"\n",
    "    Extract numbers from given string.\n",
    "    \"\"\"\n",
    "    results = []\n",
    "    for letter in input_string:\n",
    "        if letter.isdigit():\n",
    "            results.append(letter)\n",
    "    return results"
   ]
  },
  {
   "cell_type": "markdown",
   "metadata": {},
   "source": [
    "Use `extract_numbers` to extract numbers from `sample_string`."
   ]
  },
  {
   "cell_type": "code",
   "execution_count": 6,
   "metadata": {},
   "outputs": [
    {
     "data": {
      "text/plain": [
       "['0', '3', '2', '7', '2', '1', '0', '6', '0']"
      ]
     },
     "execution_count": 6,
     "metadata": {},
     "output_type": "execute_result"
    }
   ],
   "source": [
    "extract_numbers(sample_string)"
   ]
  },
  {
   "cell_type": "markdown",
   "metadata": {},
   "source": [
    "Create a function with name `extract_numbers_with_exclude` that extracts numbers from any given string, excluding characters in any given string:\n",
    "    \n",
    "- Function should get two argument, `input_string` and `exclude`.\n",
    "- Function should return a list of characters that are digits.\n",
    "- Function should exclude digits given in `exclude` argument.\n",
    "\n",
    "**Hint:** You can use `extract_numbers` function from above and save your results in the function. Then, you can exclude characters given in `exclude` after, from the results of `extract_numbers`."
   ]
  },
  {
   "cell_type": "code",
   "execution_count": 7,
   "metadata": {},
   "outputs": [],
   "source": [
    "def extract_numbers_with_exclude(input_string, exclude):\n",
    "    \"\"\"\n",
    "    Extract numbers from given string, excluding characters given in exclude argument.\n",
    "    \"\"\"\n",
    "    if isinstance(exclude, list):\n",
    "        exclude = ''.join(str(i) for i in exclude)\n",
    "        \n",
    "    results = []\n",
    "    numbers_list = extract_numbers(input_string)\n",
    "    for number in numbers_list:\n",
    "        if number not in exclude:\n",
    "            results.append(number)\n",
    "    return results"
   ]
  },
  {
   "cell_type": "code",
   "execution_count": 8,
   "metadata": {},
   "outputs": [
    {
     "data": {
      "text/plain": [
       "True"
      ]
     },
     "execution_count": 8,
     "metadata": {},
     "output_type": "execute_result"
    }
   ],
   "source": [
    "'2' in '234'"
   ]
  },
  {
   "cell_type": "markdown",
   "metadata": {},
   "source": [
    "Use `extract_numbers_with_exclude` to extract numbers from `sample_string`, excluding 2, 3, and 4."
   ]
  },
  {
   "cell_type": "code",
   "execution_count": 9,
   "metadata": {},
   "outputs": [
    {
     "data": {
      "text/plain": [
       "['0', '7', '1', '0', '6', '0']"
      ]
     },
     "execution_count": 9,
     "metadata": {},
     "output_type": "execute_result"
    }
   ],
   "source": [
    "extract_numbers_with_exclude(sample_string, exclude=[2,3,4])\n",
    "extract_numbers_with_exclude(sample_string, exclude='234')"
   ]
  },
  {
   "cell_type": "markdown",
   "metadata": {},
   "source": [
    "### Extract Anything"
   ]
  },
  {
   "cell_type": "markdown",
   "metadata": {},
   "source": [
    "Create a function with name `extract_type` that extracts characters from any given string, based on given type:\n",
    "    \n",
    "- Function should get two argument, `input_string`, and `input_type`.\n",
    "- Argument `input_type` can only accept values of `numbers`, `characters`, and `punctuations`.\n",
    "- Your return list of items should contain only values of `input_type`. That is, if `input_type` is `numbers`, your return list of items should be numbers only. \n",
    "- Function should return a list of characters that are digits.\n",
    "\n",
    "**Hint:** You can use `str.isdigit()` to check if character is a digit, and `str.isalpha()` to check for characters."
   ]
  },
  {
   "cell_type": "code",
   "execution_count": null,
   "metadata": {},
   "outputs": [],
   "source": []
  },
  {
   "cell_type": "markdown",
   "metadata": {},
   "source": [
    "Use `extract_type` to extract numbers from `sample_string`."
   ]
  },
  {
   "cell_type": "code",
   "execution_count": null,
   "metadata": {},
   "outputs": [],
   "source": []
  },
  {
   "cell_type": "markdown",
   "metadata": {},
   "source": [
    "Use `extract_type` to extract characters from `sample_string`."
   ]
  },
  {
   "cell_type": "code",
   "execution_count": null,
   "metadata": {},
   "outputs": [],
   "source": []
  },
  {
   "cell_type": "markdown",
   "metadata": {},
   "source": [
    "Use `extract_type` to extract punctuations from `sample_string`."
   ]
  },
  {
   "cell_type": "code",
   "execution_count": null,
   "metadata": {},
   "outputs": [],
   "source": []
  },
  {
   "cell_type": "markdown",
   "metadata": {},
   "source": [
    "Create a function with name `extract_type` that extracts characters from any given string, based on given type, excluding characters in any given string::\n",
    "    \n",
    "- Function should get three argument, `input_string`, `input_type`, and `exclude`.\n",
    "- Argument `input_type` can only accept values of `numbers`, `characters`, and `punctuations`.\n",
    "- Your return list of items should contain only values of `input_type`. That is, if `input_type` is `numbers`, your return list of items should be numbers only. \n",
    "- Function should return a list of characters that are digits.\n",
    "- Function should exclude digits given in `exclude` argument.\n",
    "\n",
    "**Hint:** You can use `extract_type` function from above and save your results in the function. Then, you can exclude characters given in `exclude` after, from the results of `extract_type`."
   ]
  },
  {
   "cell_type": "code",
   "execution_count": null,
   "metadata": {},
   "outputs": [],
   "source": []
  },
  {
   "cell_type": "markdown",
   "metadata": {},
   "source": [
    "Use `extract_type` to extract numbers from `sample_string`, excluding 2, 3, and 4."
   ]
  },
  {
   "cell_type": "code",
   "execution_count": null,
   "metadata": {},
   "outputs": [],
   "source": []
  },
  {
   "cell_type": "markdown",
   "metadata": {},
   "source": [
    "Use `extract_type` to extract characters from `sample_string`, excluding `p` and `y`."
   ]
  },
  {
   "cell_type": "code",
   "execution_count": null,
   "metadata": {},
   "outputs": [],
   "source": []
  },
  {
   "cell_type": "markdown",
   "metadata": {},
   "source": [
    "Use `extract_type` to extract punctuations from `sample_string`, excluding `<` and `>`."
   ]
  },
  {
   "cell_type": "code",
   "execution_count": null,
   "metadata": {},
   "outputs": [],
   "source": []
  },
  {
   "cell_type": "markdown",
   "metadata": {},
   "source": [
    "### Extract From File"
   ]
  },
  {
   "cell_type": "markdown",
   "metadata": {},
   "source": [
    "Create a function with name `get_passwords_list` to read `passwords.txt` file and return it's contents as a list.\n",
    "\n",
    "- Function should not get any arguments.\n",
    "- Function should each line as an item of your resultset.\n",
    "- Function should return a list of strings, each line as the item of the list. For `passwords.txt` file, you should have 50 items.\n",
    "\n",
    "**Hint:** Use Python's `open()` function to read the content of the file. Don't forget to close the file, use either `with` statement or `close` function."
   ]
  },
  {
   "cell_type": "code",
   "execution_count": null,
   "metadata": {},
   "outputs": [],
   "source": []
  },
  {
   "cell_type": "markdown",
   "metadata": {},
   "source": [
    "Create a variable `passwords` and assign it's value to the results of `get_passwords_list` function."
   ]
  },
  {
   "cell_type": "code",
   "execution_count": null,
   "metadata": {},
   "outputs": [],
   "source": []
  },
  {
   "cell_type": "markdown",
   "metadata": {},
   "source": [
    "Slice the first 5 elements of `passwords` list and print your results."
   ]
  },
  {
   "cell_type": "code",
   "execution_count": null,
   "metadata": {},
   "outputs": [],
   "source": []
  },
  {
   "cell_type": "markdown",
   "metadata": {},
   "source": [
    "Create a function with name `populate_lists` that gets a lists of strings and creates seperate lists based on related types.\n",
    "\n",
    "- Function should get a list of strings.\n",
    "\n",
    "\n",
    "Below are the lists that you want to hold declare **globally** so that it can be accessed outside of the function. \n",
    "\n",
    "- `only_numbers_list` should only have numbers.\n",
    "- `only_characters_list` should only have characters.\n",
    "- `only_punctuations_list` should only have punctuations.\n",
    "- `only_ones_list` should only have number 1.\n",
    "- `only_abc_list` should only have characters `a`, `b`, and `c`."
   ]
  },
  {
   "cell_type": "code",
   "execution_count": null,
   "metadata": {},
   "outputs": [],
   "source": []
  },
  {
   "cell_type": "markdown",
   "metadata": {},
   "source": [
    "Use `populate_lists` and seperate `passwords` to each list with relevant types."
   ]
  },
  {
   "cell_type": "code",
   "execution_count": null,
   "metadata": {},
   "outputs": [],
   "source": []
  },
  {
   "cell_type": "markdown",
   "metadata": {},
   "source": [
    "Slice the first 5 elements of `only_numbers_list` and print your results."
   ]
  },
  {
   "cell_type": "code",
   "execution_count": null,
   "metadata": {},
   "outputs": [],
   "source": []
  },
  {
   "cell_type": "markdown",
   "metadata": {},
   "source": [
    "Slice the first 5 elements of `only_characters_list` and print your results."
   ]
  },
  {
   "cell_type": "code",
   "execution_count": null,
   "metadata": {},
   "outputs": [],
   "source": []
  },
  {
   "cell_type": "markdown",
   "metadata": {},
   "source": [
    "Slice the first 5 elements of `only_punctuations_list` and print your results."
   ]
  },
  {
   "cell_type": "code",
   "execution_count": null,
   "metadata": {},
   "outputs": [],
   "source": []
  },
  {
   "cell_type": "markdown",
   "metadata": {},
   "source": [
    "Slice the first 5 elements of `only_ones_list` and print your results."
   ]
  },
  {
   "cell_type": "code",
   "execution_count": null,
   "metadata": {},
   "outputs": [],
   "source": []
  },
  {
   "cell_type": "markdown",
   "metadata": {},
   "source": [
    "Slice the first 5 elements of `only_abc_list` and print your results."
   ]
  },
  {
   "cell_type": "code",
   "execution_count": null,
   "metadata": {},
   "outputs": [],
   "source": []
  },
  {
   "cell_type": "markdown",
   "metadata": {},
   "source": [
    "Create a function with name `save_list_to_file` that saves given list to a given filename.\n",
    "\n",
    "- Function should get two arguments, one `input_list` and `filename`.\n",
    "- Function should save given list of items into a file with name `filename.txt`, where each line is an item of the list. If the item is a list, it should be converted to string using `str.join` method.\n",
    "- Function should return True if the file is saved, else False."
   ]
  },
  {
   "cell_type": "code",
   "execution_count": null,
   "metadata": {},
   "outputs": [],
   "source": []
  },
  {
   "cell_type": "markdown",
   "metadata": {},
   "source": [
    "Use `save_list_to_file` to save `only_numbers_list` to a file with filename `only_numbers_list.txt`."
   ]
  },
  {
   "cell_type": "code",
   "execution_count": null,
   "metadata": {},
   "outputs": [],
   "source": []
  },
  {
   "cell_type": "markdown",
   "metadata": {},
   "source": [
    "Use `save_list_to_file` to save `only_characters_list` to a file with filename `only_characters_list.txt`."
   ]
  },
  {
   "cell_type": "code",
   "execution_count": null,
   "metadata": {},
   "outputs": [],
   "source": []
  },
  {
   "cell_type": "markdown",
   "metadata": {},
   "source": [
    "Use `save_list_to_file` to save `only_punctuations_list` to a file with filename `only_punctuations_list.txt`."
   ]
  },
  {
   "cell_type": "code",
   "execution_count": null,
   "metadata": {},
   "outputs": [],
   "source": []
  },
  {
   "cell_type": "markdown",
   "metadata": {},
   "source": [
    "Use `save_list_to_file` to save `only_ones_list` to a file with filename `only_ones_list.txt`."
   ]
  },
  {
   "cell_type": "code",
   "execution_count": null,
   "metadata": {},
   "outputs": [],
   "source": []
  },
  {
   "cell_type": "markdown",
   "metadata": {},
   "source": [
    "Use `save_list_to_file` to save `only_abc_list` to a file with filename `only_abc_list.txt`."
   ]
  },
  {
   "cell_type": "code",
   "execution_count": null,
   "metadata": {},
   "outputs": [],
   "source": []
  },
  {
   "cell_type": "markdown",
   "metadata": {},
   "source": [
    "## Generators"
   ]
  },
  {
   "cell_type": "markdown",
   "metadata": {},
   "source": [
    "Create a generator function with name `return_one_item_generator` that returns only one item, 'abc'.\n",
    "\n",
    "- Function should not get any arguments.\n",
    "- Function should create a generator.\n",
    "- Generator, when called, should return only one item, `abc`.\n",
    "- Use generator until it throws StopIteration error."
   ]
  },
  {
   "cell_type": "code",
   "execution_count": null,
   "metadata": {},
   "outputs": [],
   "source": []
  },
  {
   "cell_type": "code",
   "execution_count": null,
   "metadata": {},
   "outputs": [],
   "source": []
  },
  {
   "cell_type": "markdown",
   "metadata": {},
   "source": [
    "Create a generator function with name `counter` that returns current count, starting from `1`.\n",
    "\n",
    "- Function should not get any arguments.\n",
    "- Function should create a generator.\n",
    "- Generator, when called, should return integer, from 1 to n.\n",
    "- Use generator to generate first 7 numbers."
   ]
  },
  {
   "cell_type": "code",
   "execution_count": null,
   "metadata": {},
   "outputs": [],
   "source": []
  },
  {
   "cell_type": "code",
   "execution_count": null,
   "metadata": {},
   "outputs": [],
   "source": []
  },
  {
   "cell_type": "markdown",
   "metadata": {},
   "source": [
    "Create a generator function with name `counter_until` that returns current count, starting from `1`, until given number.\n",
    "\n",
    "- Function should get one arguments, `stop_number`.\n",
    "- Function should create a generator.\n",
    "- Generator, when called, should return integer, from 1 to n, if n > `stop_number`, then it should stop generating new numbers.\n",
    "- Use generator to generate first 7 numbers, without throwing StopIteration."
   ]
  },
  {
   "cell_type": "code",
   "execution_count": null,
   "metadata": {},
   "outputs": [],
   "source": []
  },
  {
   "cell_type": "code",
   "execution_count": null,
   "metadata": {},
   "outputs": [],
   "source": []
  },
  {
   "cell_type": "markdown",
   "metadata": {},
   "source": [
    "## Builtin Functions"
   ]
  },
  {
   "cell_type": "code",
   "execution_count": null,
   "metadata": {},
   "outputs": [],
   "source": [
    "a = [1, 2, 3, 4]\n",
    "b = ('a', 'b', 'c', 'd', 'e')\n",
    "c = {5, 6, 6, 7, 8, 9, 10, 10, 11}\n",
    "d = {0: 'f', 1: 'g', 2: 'h', 3: 'i'}\n",
    "e = (True, 1, False)\n",
    "f = (True, 1, True, True)"
   ]
  },
  {
   "cell_type": "markdown",
   "metadata": {},
   "source": [
    "Use `range` function to generate numbers between 2 to 10. Convert results to list and show your result."
   ]
  },
  {
   "cell_type": "code",
   "execution_count": null,
   "metadata": {},
   "outputs": [],
   "source": []
  },
  {
   "cell_type": "markdown",
   "metadata": {},
   "source": [
    "Use `range` function to generate numbers between 2 to 10, with 3 steps. Convert results to list and show your result."
   ]
  },
  {
   "cell_type": "code",
   "execution_count": null,
   "metadata": {},
   "outputs": [],
   "source": []
  },
  {
   "cell_type": "markdown",
   "metadata": {},
   "source": [
    "Use `zip` function and zip `a` and `b` together. Convert results to list and show your result."
   ]
  },
  {
   "cell_type": "code",
   "execution_count": null,
   "metadata": {},
   "outputs": [],
   "source": []
  },
  {
   "cell_type": "markdown",
   "metadata": {},
   "source": [
    "Use `sum` function to find sum of `a`, `min` function to find min of `b`, and `max` to find max of `c`."
   ]
  },
  {
   "cell_type": "code",
   "execution_count": null,
   "metadata": {},
   "outputs": [],
   "source": []
  },
  {
   "cell_type": "markdown",
   "metadata": {},
   "source": [
    "Use `sorted` function to reverse `b`."
   ]
  },
  {
   "cell_type": "code",
   "execution_count": null,
   "metadata": {},
   "outputs": [],
   "source": []
  },
  {
   "cell_type": "markdown",
   "metadata": {},
   "source": [
    "Use `any` to find truth value of `e`, `all` to find truth value of `f`."
   ]
  },
  {
   "cell_type": "code",
   "execution_count": null,
   "metadata": {},
   "outputs": [],
   "source": []
  },
  {
   "cell_type": "markdown",
   "metadata": {},
   "source": [
    "Use `input` function to get your birth year. Convert your results to integer."
   ]
  },
  {
   "cell_type": "code",
   "execution_count": null,
   "metadata": {},
   "outputs": [],
   "source": []
  },
  {
   "cell_type": "markdown",
   "metadata": {},
   "source": [
    "Use `isinstance` function and check if `a` is list, `b` is tuple or set."
   ]
  },
  {
   "cell_type": "code",
   "execution_count": null,
   "metadata": {},
   "outputs": [],
   "source": []
  }
 ],
 "metadata": {
  "kernelspec": {
   "display_name": "Python 3",
   "language": "python",
   "name": "python3"
  },
  "language_info": {
   "codemirror_mode": {
    "name": "ipython",
    "version": 3
   },
   "file_extension": ".py",
   "mimetype": "text/x-python",
   "name": "python",
   "nbconvert_exporter": "python",
   "pygments_lexer": "ipython3",
   "version": "3.9.0"
  }
 },
 "nbformat": 4,
 "nbformat_minor": 2
}
