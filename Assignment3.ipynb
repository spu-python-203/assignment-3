{
 "cells": [
  {
   "cell_type": "markdown",
   "metadata": {},
   "source": [
    "# Assignment 3 - Data Structures (Callables)"
   ]
  },
  {
   "cell_type": "markdown",
   "metadata": {},
   "source": [
    "\n",
    "- Create a docstring for each function and class that you might be creating."
   ]
  },
  {
   "cell_type": "markdown",
   "metadata": {},
   "source": [
    "## User Functions"
   ]
  },
  {
   "cell_type": "markdown",
   "metadata": {},
   "source": [
    "### Extract Numbers"
   ]
  },
  {
   "cell_type": "code",
   "execution_count": null,
   "metadata": {},
   "outputs": [],
   "source": [
    "sample_string = '[0p327>yt<2o|%1_060n$\\n'"
   ]
  },
  {
   "cell_type": "markdown",
   "metadata": {},
   "source": [
    "Create a function with name `initate_cleanup` and make it to print `Starting cleanup!` text."
   ]
  },
  {
   "cell_type": "code",
   "execution_count": null,
   "metadata": {},
   "outputs": [],
   "source": []
  },
  {
   "cell_type": "markdown",
   "metadata": {},
   "source": [
    "Use `initiate_cleanup` function."
   ]
  },
  {
   "cell_type": "code",
   "execution_count": null,
   "metadata": {},
   "outputs": [],
   "source": []
  },
  {
   "cell_type": "markdown",
   "metadata": {},
   "source": [
    "Create a function with name `extract_numbers` that extracts numbers from any given string:\n",
    "    \n",
    "- Function should get one argument, `input_string`.\n",
    "- Function should return a list of characters that are digits.\n",
    "\n",
    "**Hint:** You can use `str.isdigit()` to check if character is a digit."
   ]
  },
  {
   "cell_type": "code",
   "execution_count": null,
   "metadata": {},
   "outputs": [],
   "source": []
  },
  {
   "cell_type": "markdown",
   "metadata": {},
   "source": [
    "Use `extract_numbers` to extract numbers from `sample_string`."
   ]
  },
  {
   "cell_type": "code",
   "execution_count": null,
   "metadata": {},
   "outputs": [],
   "source": []
  },
  {
   "cell_type": "markdown",
   "metadata": {},
   "source": [
    "Create a function with name `extract_numbers_with_exclude` that extracts numbers from any given string, excluding characters in any given string:\n",
    "    \n",
    "- Function should get two argument, `input_string` and `exclude`.\n",
    "- Function should return a list of characters that are digits.\n",
    "- Function should exclude digits given in `exclude` argument.\n",
    "\n",
    "**Hint:** You can use `extract_numbers` function from above and save your results in the function. Then, you can exclude characters given in `exclude` after, from the results of `extract_numbers`."
   ]
  },
  {
   "cell_type": "code",
   "execution_count": null,
   "metadata": {},
   "outputs": [],
   "source": []
  },
  {
   "cell_type": "markdown",
   "metadata": {},
   "source": [
    "Use `extract_numbers_with_exclude` to extract numbers from `sample_string`, excluding 2, 3, and 4."
   ]
  },
  {
   "cell_type": "code",
   "execution_count": null,
   "metadata": {},
   "outputs": [],
   "source": []
  },
  {
   "cell_type": "markdown",
   "metadata": {},
   "source": [
    "### Extract Anything"
   ]
  },
  {
   "cell_type": "markdown",
   "metadata": {},
   "source": [
    "Create a function with name `extract_type` that extracts characters from any given string, based on given type:\n",
    "    \n",
    "- Function should get two argument, `input_string`, and `input_type`.\n",
    "- Argument `input_type` can only accept values of `numbers`, `characters`, and `punctuations`.\n",
    "- Your return list of items should contain only values of `input_type`. That is, if `input_type` is `numbers`, your return list of items should be numbers only. \n",
    "- Function should return a list of characters that are digits.\n",
    "\n",
    "**Hint:** You can use `str.isdigit()` to check if character is a digit, and `str.isalpha()` to check for characters."
   ]
  },
  {
   "cell_type": "code",
   "execution_count": null,
   "metadata": {},
   "outputs": [],
   "source": []
  },
  {
   "cell_type": "markdown",
   "metadata": {},
   "source": [
    "Use `extract_type` to extract numbers from `sample_string`."
   ]
  },
  {
   "cell_type": "code",
   "execution_count": null,
   "metadata": {},
   "outputs": [],
   "source": []
  },
  {
   "cell_type": "markdown",
   "metadata": {},
   "source": [
    "Use `extract_type` to extract characters from `sample_string`."
   ]
  },
  {
   "cell_type": "code",
   "execution_count": null,
   "metadata": {},
   "outputs": [],
   "source": []
  },
  {
   "cell_type": "markdown",
   "metadata": {},
   "source": [
    "Use `extract_type` to extract punctuations from `sample_string`."
   ]
  },
  {
   "cell_type": "code",
   "execution_count": null,
   "metadata": {},
   "outputs": [],
   "source": []
  },
  {
   "cell_type": "markdown",
   "metadata": {},
   "source": [
    "Create a function with name `extract_type` that extracts characters from any given string, based on given type, excluding characters in any given string::\n",
    "    \n",
    "- Function should get three argument, `input_string`, `input_type`, and `exclude`.\n",
    "- Argument `input_type` can only accept values of `numbers`, `characters`, and `punctuations`.\n",
    "- Your return list of items should contain only values of `input_type`. That is, if `input_type` is `numbers`, your return list of items should be numbers only. \n",
    "- Function should return a list of characters that are digits.\n",
    "- Function should exclude digits given in `exclude` argument.\n",
    "\n",
    "**Hint:** You can use `extract_type` function from above and save your results in the function. Then, you can exclude characters given in `exclude` after, from the results of `extract_type`."
   ]
  },
  {
   "cell_type": "code",
   "execution_count": null,
   "metadata": {},
   "outputs": [],
   "source": []
  },
  {
   "cell_type": "markdown",
   "metadata": {},
   "source": [
    "Use `extract_type` to extract numbers from `sample_string`, excluding 2, 3, and 4."
   ]
  },
  {
   "cell_type": "code",
   "execution_count": null,
   "metadata": {},
   "outputs": [],
   "source": []
  },
  {
   "cell_type": "markdown",
   "metadata": {},
   "source": [
    "Use `extract_type` to extract characters from `sample_string`, excluding `p` and `y`."
   ]
  },
  {
   "cell_type": "code",
   "execution_count": null,
   "metadata": {},
   "outputs": [],
   "source": []
  },
  {
   "cell_type": "markdown",
   "metadata": {},
   "source": [
    "Use `extract_type` to extract punctuations from `sample_string`, excluding `<` and `>`."
   ]
  },
  {
   "cell_type": "code",
   "execution_count": null,
   "metadata": {},
   "outputs": [],
   "source": []
  },
  {
   "cell_type": "markdown",
   "metadata": {},
   "source": [
    "### Extract From File"
   ]
  },
  {
   "cell_type": "markdown",
   "metadata": {},
   "source": [
    "Create a function with name `get_passwords_list` to read `passwords.txt` file and return it's contents as a list.\n",
    "\n",
    "- Function should not get any arguments.\n",
    "- Function should each line as an item of your resultset.\n",
    "- Function should return a list of strings, each line as the item of the list. For `passwords.txt` file, you should have 50 items.\n",
    "\n",
    "**Hint:** Use Python's `open()` function to read the content of the file. Don't forget to close the file, use either `with` statement or `close` function."
   ]
  },
  {
   "cell_type": "code",
   "execution_count": null,
   "metadata": {},
   "outputs": [],
   "source": []
  },
  {
   "cell_type": "markdown",
   "metadata": {},
   "source": [
    "Create a variable `passwords` and assign it's value to the results of `get_passwords_list` function."
   ]
  },
  {
   "cell_type": "code",
   "execution_count": null,
   "metadata": {},
   "outputs": [],
   "source": []
  },
  {
   "cell_type": "markdown",
   "metadata": {},
   "source": [
    "Slice the first 5 elements of `passwords` list and print your results."
   ]
  },
  {
   "cell_type": "code",
   "execution_count": null,
   "metadata": {},
   "outputs": [],
   "source": []
  },
  {
   "cell_type": "markdown",
   "metadata": {},
   "source": [
    "Create a function with name `populate_lists` that gets a lists of strings and creates seperate lists based on related types.\n",
    "\n",
    "- Function should get a list of strings.\n",
    "\n",
    "\n",
    "Below are the lists that you want to hold declare **globally** so that it can be accessed outside of the function. \n",
    "\n",
    "- `only_numbers_list` should only have numbers.\n",
    "- `only_characters_list` should only have characters.\n",
    "- `only_punctuations_list` should only have punctuations.\n",
    "- `only_ones_list` should only have number 1.\n",
    "- `only_abc_list` should only have characters `a`, `b`, and `c`."
   ]
  },
  {
   "cell_type": "code",
   "execution_count": null,
   "metadata": {},
   "outputs": [],
   "source": []
  },
  {
   "cell_type": "markdown",
   "metadata": {},
   "source": [
    "Use `populate_lists` and seperate `passwords` to each list with relevant types."
   ]
  },
  {
   "cell_type": "code",
   "execution_count": null,
   "metadata": {},
   "outputs": [],
   "source": []
  },
  {
   "cell_type": "markdown",
   "metadata": {},
   "source": [
    "Slice the first 5 elements of `only_numbers_list` and print your results."
   ]
  },
  {
   "cell_type": "code",
   "execution_count": null,
   "metadata": {},
   "outputs": [],
   "source": []
  },
  {
   "cell_type": "markdown",
   "metadata": {},
   "source": [
    "Slice the first 5 elements of `only_characters_list` and print your results."
   ]
  },
  {
   "cell_type": "code",
   "execution_count": null,
   "metadata": {},
   "outputs": [],
   "source": []
  },
  {
   "cell_type": "markdown",
   "metadata": {},
   "source": [
    "Slice the first 5 elements of `only_punctuations_list` and print your results."
   ]
  },
  {
   "cell_type": "code",
   "execution_count": null,
   "metadata": {},
   "outputs": [],
   "source": []
  },
  {
   "cell_type": "markdown",
   "metadata": {},
   "source": [
    "Slice the first 5 elements of `only_ones_list` and print your results."
   ]
  },
  {
   "cell_type": "code",
   "execution_count": null,
   "metadata": {},
   "outputs": [],
   "source": []
  },
  {
   "cell_type": "markdown",
   "metadata": {},
   "source": [
    "Slice the first 5 elements of `only_abc_list` and print your results."
   ]
  },
  {
   "cell_type": "code",
   "execution_count": null,
   "metadata": {},
   "outputs": [],
   "source": []
  },
  {
   "cell_type": "markdown",
   "metadata": {},
   "source": [
    "Create a function with name `save_list_to_file` that saves given list to a given filename.\n",
    "\n",
    "- Function should get two arguments, one `input_list` and `filename`.\n",
    "- Function should save given list of items into a file with name `filename.txt`, where each line is an item of the list. If the item is a list, it should be converted to string using `str.join` method.\n",
    "- Function should return True if the file is saved, else False."
   ]
  },
  {
   "cell_type": "code",
   "execution_count": null,
   "metadata": {},
   "outputs": [],
   "source": []
  },
  {
   "cell_type": "markdown",
   "metadata": {},
   "source": [
    "Use `save_list_to_file` to save `only_numbers_list` to a file with filename `only_numbers_list.txt`."
   ]
  },
  {
   "cell_type": "code",
   "execution_count": null,
   "metadata": {},
   "outputs": [],
   "source": []
  },
  {
   "cell_type": "markdown",
   "metadata": {},
   "source": [
    "Use `save_list_to_file` to save `only_characters_list` to a file with filename `only_characters_list.txt`."
   ]
  },
  {
   "cell_type": "code",
   "execution_count": null,
   "metadata": {},
   "outputs": [],
   "source": []
  },
  {
   "cell_type": "markdown",
   "metadata": {},
   "source": [
    "Use `save_list_to_file` to save `only_punctuations_list` to a file with filename `only_punctuations_list.txt`."
   ]
  },
  {
   "cell_type": "code",
   "execution_count": null,
   "metadata": {},
   "outputs": [],
   "source": []
  },
  {
   "cell_type": "markdown",
   "metadata": {},
   "source": [
    "Use `save_list_to_file` to save `only_ones_list` to a file with filename `only_ones_list.txt`."
   ]
  },
  {
   "cell_type": "code",
   "execution_count": null,
   "metadata": {},
   "outputs": [],
   "source": []
  },
  {
   "cell_type": "markdown",
   "metadata": {},
   "source": [
    "Use `save_list_to_file` to save `only_abc_list` to a file with filename `only_abc_list.txt`."
   ]
  },
  {
   "cell_type": "code",
   "execution_count": null,
   "metadata": {},
   "outputs": [],
   "source": []
  }
 ],
 "metadata": {
  "kernelspec": {
   "display_name": "Python 3",
   "language": "python",
   "name": "python3"
  },
  "language_info": {
   "codemirror_mode": {
    "name": "ipython",
    "version": 3
   },
   "file_extension": ".py",
   "mimetype": "text/x-python",
   "name": "python",
   "nbconvert_exporter": "python",
   "pygments_lexer": "ipython3",
   "version": "3.9.0"
  }
 },
 "nbformat": 4,
 "nbformat_minor": 2
}
