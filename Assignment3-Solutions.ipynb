{
 "cells": [
  {
   "cell_type": "markdown",
   "metadata": {},
   "source": [
    "# Assignment 3 - Data Structures (Callables) (Solutions)"
   ]
  },
  {
   "cell_type": "markdown",
   "metadata": {},
   "source": [
    "\n",
    "- Create a docstring for each function and class that you might be creating."
   ]
  },
  {
   "cell_type": "markdown",
   "metadata": {},
   "source": [
    "## User Functions"
   ]
  },
  {
   "cell_type": "markdown",
   "metadata": {},
   "source": [
    "### Extract Numbers"
   ]
  },
  {
   "cell_type": "code",
   "execution_count": null,
   "metadata": {},
   "outputs": [],
   "source": [
    "sample_string = '[0p327>yt<2o|%1_060n$\\n'"
   ]
  },
  {
   "cell_type": "markdown",
   "metadata": {},
   "source": [
    "Create a function with name `initate_cleanup` and make it to print `Starting cleanup!` text."
   ]
  },
  {
   "cell_type": "code",
   "execution_count": null,
   "metadata": {},
   "outputs": [],
   "source": [
    "def initiate_cleanup():\n",
    "    print('Starting cleanup!')"
   ]
  },
  {
   "cell_type": "markdown",
   "metadata": {},
   "source": [
    "Use `initiate_cleanup` function."
   ]
  },
  {
   "cell_type": "code",
   "execution_count": null,
   "metadata": {},
   "outputs": [],
   "source": [
    "initiate_cleanup()"
   ]
  },
  {
   "cell_type": "markdown",
   "metadata": {},
   "source": [
    "Create a function with name `extract_numbers` that extracts numbers from any given string:\n",
    "    \n",
    "- Function should get one argument, `input_string`.\n",
    "- Function should return a list of characters that are digits.\n",
    "\n",
    "**Hint:** You can use `str.isdigit()` to check if character is a digit."
   ]
  },
  {
   "cell_type": "code",
   "execution_count": null,
   "metadata": {},
   "outputs": [],
   "source": [
    "def extract_numbers(input_string):\n",
    "    numbers = []\n",
    "    for char in input_string:\n",
    "        if char.isdigit():\n",
    "            numbers.append(char)\n",
    "    return numbers #','.join(numbers)"
   ]
  },
  {
   "cell_type": "markdown",
   "metadata": {},
   "source": [
    "Use `extract_numbers` to extract numbers from `sample_string`."
   ]
  },
  {
   "cell_type": "code",
   "execution_count": null,
   "metadata": {},
   "outputs": [],
   "source": [
    "extract_numbers(sample_string)"
   ]
  },
  {
   "cell_type": "markdown",
   "metadata": {},
   "source": [
    "Create a function with name `extract_numbers_with_exclude` that extracts numbers from any given string, excluding characters in any given string:\n",
    "    \n",
    "- Function should get two argument, `input_string` and `exclude`.\n",
    "- Function should return a list of characters that are digits.\n",
    "- Function should exclude digits given in `exclude` argument.\n",
    "\n",
    "**Hint:** You can use `extract_numbers` function from above and save your results in the function. Then, you can exclude characters given in `exclude` after from the results of `extract_numbers`."
   ]
  },
  {
   "cell_type": "code",
   "execution_count": null,
   "metadata": {},
   "outputs": [],
   "source": [
    "def extract_numbers_with_exclude(input_string, exclude):\n",
    "    wanted = []\n",
    "    numbers = extract_numbers(input_string)\n",
    "    for number in numbers:\n",
    "        if number not in exclude:\n",
    "            wanted.append(number)\n",
    "    return wanted"
   ]
  },
  {
   "cell_type": "markdown",
   "metadata": {},
   "source": [
    "Use `extract_numbers_with_exclude` to extract numbers from `sample_string`, excluding 2, 3, and 4."
   ]
  },
  {
   "cell_type": "code",
   "execution_count": null,
   "metadata": {},
   "outputs": [],
   "source": [
    "extract_numbers_with_exclude(sample_string, '234')"
   ]
  },
  {
   "cell_type": "markdown",
   "metadata": {},
   "source": [
    "### Extract Anything"
   ]
  },
  {
   "cell_type": "markdown",
   "metadata": {},
   "source": [
    "Create a function with name `extract_type` that extracts characters from any given string, based on given type:\n",
    "    \n",
    "- Function should get two argument, `input_string`, and `input_type`.\n",
    "- Argument `input_type` can only accept values of `numbers`, `characters`, and `punctuations`.\n",
    "- Your return list of items should contain only values of `input_type`. That is, if `input_type` is `numbers`, your return list of items should be numbers only. \n",
    "- Function should return a list of characters that are digits.\n",
    "\n",
    "**Hint:** You can use `str.isdigit()` to check if character is a digit, and `str.isalpha()` to check for characters."
   ]
  },
  {
   "cell_type": "code",
   "execution_count": null,
   "metadata": {},
   "outputs": [],
   "source": [
    "def extract_type(input_string, input_type):\n",
    "    wanted = []\n",
    "    for char in input_string:\n",
    "        if input_type == 'numbers' and char.isdigit():\n",
    "            wanted.append(char)\n",
    "        elif input_type == 'characters' and char.isalpha():\n",
    "            wanted.append(char)\n",
    "        elif input_type == 'punctuations' and not (char.isdigit() or char.isalpha()):\n",
    "            wanted.append(char)\n",
    "            \n",
    "    return wanted #','.join(wanted)"
   ]
  },
  {
   "cell_type": "markdown",
   "metadata": {},
   "source": [
    "Use `extract_type` to extract numbers from `sample_string`."
   ]
  },
  {
   "cell_type": "code",
   "execution_count": null,
   "metadata": {},
   "outputs": [],
   "source": [
    "extract_type(sample_string, 'numbers')"
   ]
  },
  {
   "cell_type": "markdown",
   "metadata": {},
   "source": [
    "Use `extract_type` to extract characters from `sample_string`."
   ]
  },
  {
   "cell_type": "code",
   "execution_count": null,
   "metadata": {},
   "outputs": [],
   "source": [
    "extract_type(sample_string, 'characters')"
   ]
  },
  {
   "cell_type": "markdown",
   "metadata": {},
   "source": [
    "Use `extract_type` to extract punctuations from `sample_string`."
   ]
  },
  {
   "cell_type": "code",
   "execution_count": null,
   "metadata": {},
   "outputs": [],
   "source": [
    "extract_type(sample_string, 'punctuations')"
   ]
  },
  {
   "cell_type": "markdown",
   "metadata": {},
   "source": [
    "Create a function with name `extract_type` that extracts characters from any given string, based on given type, excluding characters in any given string::\n",
    "    \n",
    "- Function should get three argument, `input_string`, `input_type`, and `exclude`.\n",
    "- Argument `input_type` can only accept values of `numbers`, `characters`, and `punctuations`.\n",
    "- Your return list of items should contain only values of `input_type`. That is, if `input_type` is `numbers`, your return list of items should be numbers only. \n",
    "- Function should return a list of characters that are digits.\n",
    "- Function should exclude digits given in `exclude` argument.\n",
    "\n",
    "**Hint:** You can use `extract_type` function from above and save your results in the function. Then, you can exclude characters given in `exclude` after, from the results of `extract_type`."
   ]
  },
  {
   "cell_type": "code",
   "execution_count": null,
   "metadata": {},
   "outputs": [],
   "source": [
    "def extract_type_with_exclude(input_string, input_type, exclude):\n",
    "    wanted = []\n",
    "    extracted = extract_type(input_string, input_type)\n",
    "    for char in extracted:\n",
    "        if char.lower() not in exclude:\n",
    "            wanted.append(char)\n",
    "    return wanted"
   ]
  },
  {
   "cell_type": "markdown",
   "metadata": {},
   "source": [
    "Use `extract_type` to extract numbers from `sample_string`, excluding 2, 3, and 4."
   ]
  },
  {
   "cell_type": "code",
   "execution_count": null,
   "metadata": {},
   "outputs": [],
   "source": [
    "extract_type_with_exclude(sample_string, 'numbers', '234')"
   ]
  },
  {
   "cell_type": "markdown",
   "metadata": {},
   "source": [
    "Use `extract_type` to extract characters from `sample_string`, excluding `p` and `y`."
   ]
  },
  {
   "cell_type": "code",
   "execution_count": null,
   "metadata": {},
   "outputs": [],
   "source": [
    "extract_type_with_exclude(sample_string, 'characters', 'py')"
   ]
  },
  {
   "cell_type": "markdown",
   "metadata": {},
   "source": [
    "Use `extract_type` to extract punctuations from `sample_string`, excluding `<` and `>`."
   ]
  },
  {
   "cell_type": "code",
   "execution_count": null,
   "metadata": {
    "scrolled": true
   },
   "outputs": [],
   "source": [
    "extract_type_with_exclude(sample_string, 'punctuations', '<>')"
   ]
  },
  {
   "cell_type": "markdown",
   "metadata": {},
   "source": [
    "### Extract From File"
   ]
  },
  {
   "cell_type": "markdown",
   "metadata": {},
   "source": [
    "Create a function with name `get_passwords_list` to read `passwords.txt` file and return it's contents as a list.\n",
    "\n",
    "- Function should not get any arguments.\n",
    "- Function should each line as an item of your resultset.\n",
    "- Function should return a list of strings, each line as the item of the list. For `passwords.txt` file, you should have 50 items.\n",
    "\n",
    "**Hint:** Use Python's `open()` function to read the content of the file. Don't forget to close the file, use either `with` statement or `close` function."
   ]
  },
  {
   "cell_type": "code",
   "execution_count": null,
   "metadata": {},
   "outputs": [],
   "source": [
    "def get_passwords_list():\n",
    "    with open('passwords.txt') as handle:\n",
    "        passwords = handle.readlines()\n",
    "    return passwords"
   ]
  },
  {
   "cell_type": "markdown",
   "metadata": {},
   "source": [
    "Create a variable `passwords` and assign it's value to the results of `get_passwords_list` function."
   ]
  },
  {
   "cell_type": "code",
   "execution_count": null,
   "metadata": {},
   "outputs": [],
   "source": [
    "passwords = get_passwords_list()"
   ]
  },
  {
   "cell_type": "markdown",
   "metadata": {},
   "source": [
    "Slice the first 5 elements of `passwords` list and print your results."
   ]
  },
  {
   "cell_type": "code",
   "execution_count": null,
   "metadata": {},
   "outputs": [],
   "source": [
    "passwords[:4]"
   ]
  },
  {
   "cell_type": "markdown",
   "metadata": {},
   "source": [
    "Create a function with name `populate_lists` that gets a lists of strings and creates seperate lists based on related types.\n",
    "\n",
    "- Function should get a list of strings.\n",
    "\n",
    "\n",
    "Below are the lists that you want to hold declare globally so that it can be accessed outside of the function. \n",
    "\n",
    "- `only_numbers_list` should only have numbers.\n",
    "- `only_characters_list` should only have characters.\n",
    "- `only_punctuations_list` should only have punctuations.\n",
    "- `only_ones_list` should only have number 1.\n",
    "- `only_abc_list` should only have characters `a`, `b`, and `c`."
   ]
  },
  {
   "cell_type": "code",
   "execution_count": null,
   "metadata": {},
   "outputs": [],
   "source": [
    "def populate_lists(passwords_list):\n",
    "    global only_numbers_list\n",
    "    global only_characters_list\n",
    "    global only_punctuations_list\n",
    "    global only_ones_list\n",
    "    global only_abc_list\n",
    "\n",
    "    only_numbers_list = []\n",
    "    only_characters_list = []\n",
    "    only_punctuations_list = []\n",
    "    only_ones_list = []\n",
    "    only_abc_list = []\n",
    "\n",
    "    letters_excluding_abc = [i for i in 'abcdefghijklmnopqrstuvwxyz' if i not in 'abc']\n",
    "\n",
    "    for password in passwords_list:\n",
    "        password = password.replace('\\n', '')\n",
    "        only_numbers_list.append(extract_type(password, 'numbers'))\n",
    "        only_characters_list.append(extract_type(password, 'characters'))\n",
    "        only_punctuations_list.append(extract_type(password, 'punctuations'))\n",
    "        only_ones_list.append(extract_type_with_exclude(password, 'numbers', '23456789'))  \n",
    "        only_abc_list.append(extract_type_with_exclude(password, 'characters', letters_excluding_abc))        "
   ]
  },
  {
   "cell_type": "markdown",
   "metadata": {},
   "source": [
    "Use `populate_lists` and seperate `passwords` to each list with relevant types."
   ]
  },
  {
   "cell_type": "code",
   "execution_count": null,
   "metadata": {},
   "outputs": [],
   "source": [
    "populate_lists(passwords)"
   ]
  },
  {
   "cell_type": "markdown",
   "metadata": {},
   "source": [
    "Slice the first 5 elements of `only_numbers_list` and print your results."
   ]
  },
  {
   "cell_type": "code",
   "execution_count": null,
   "metadata": {},
   "outputs": [],
   "source": [
    "only_numbers_list[:4]"
   ]
  },
  {
   "cell_type": "markdown",
   "metadata": {},
   "source": [
    "Slice the first 5 elements of `only_characters_list` and print your results."
   ]
  },
  {
   "cell_type": "code",
   "execution_count": null,
   "metadata": {},
   "outputs": [],
   "source": [
    "only_characters_list[:4]"
   ]
  },
  {
   "cell_type": "markdown",
   "metadata": {},
   "source": [
    "Slice the first 5 elements of `only_punctuations_list` and print your results."
   ]
  },
  {
   "cell_type": "code",
   "execution_count": null,
   "metadata": {},
   "outputs": [],
   "source": [
    "only_punctuations_list[:4]"
   ]
  },
  {
   "cell_type": "markdown",
   "metadata": {},
   "source": [
    "Slice the first 5 elements of `only_ones_list` and print your results."
   ]
  },
  {
   "cell_type": "code",
   "execution_count": null,
   "metadata": {},
   "outputs": [],
   "source": [
    "only_ones_list[:4]"
   ]
  },
  {
   "cell_type": "markdown",
   "metadata": {},
   "source": [
    "Slice the first 5 elements of `only_abc_list` and print your results."
   ]
  },
  {
   "cell_type": "code",
   "execution_count": null,
   "metadata": {},
   "outputs": [],
   "source": [
    "only_abc_list[:4]"
   ]
  },
  {
   "cell_type": "markdown",
   "metadata": {},
   "source": [
    "Create a function with name `save_list_to_file` that saves given list to a given filename.\n",
    "\n",
    "- Function should get two arguments, one `input_list` and `filename`.\n",
    "- Function should save given list of items into a file with name `filename.txt`, where each line is an item of the list. If the item is a list, it should be converted to string using `str.join` method.\n",
    "- Function should return True if the file is saved, else False."
   ]
  },
  {
   "cell_type": "code",
   "execution_count": null,
   "metadata": {},
   "outputs": [],
   "source": [
    "def save_list_to_file(input_list, filename):\n",
    "    save_list = []\n",
    "    for item in input_list:\n",
    "        save_list.append(''.join(item)+'\\n')\n",
    "        \n",
    "    with open(filename, 'w+') as handle:\n",
    "        handle.writelines(save_list)"
   ]
  },
  {
   "cell_type": "markdown",
   "metadata": {},
   "source": [
    "Use `save_list_to_file` to save `only_numbers_list` to a file with filename `only_numbers_list.txt`."
   ]
  },
  {
   "cell_type": "code",
   "execution_count": null,
   "metadata": {},
   "outputs": [],
   "source": [
    "save_list_to_file(only_numbers_list, 'only_numbers_list.txt')"
   ]
  },
  {
   "cell_type": "markdown",
   "metadata": {},
   "source": [
    "Use `save_list_to_file` to save `only_characters_list` to a file with filename `only_characters_list.txt`."
   ]
  },
  {
   "cell_type": "code",
   "execution_count": null,
   "metadata": {},
   "outputs": [],
   "source": [
    "save_list_to_file(only_characters_list, 'only_characters_list.txt')"
   ]
  },
  {
   "cell_type": "markdown",
   "metadata": {},
   "source": [
    "Use `save_list_to_file` to save `only_punctuations_list` to a file with filename `only_punctuations_list.txt`."
   ]
  },
  {
   "cell_type": "code",
   "execution_count": null,
   "metadata": {},
   "outputs": [],
   "source": [
    "save_list_to_file(only_punctuations_list, 'only_punctuations_list.txt')"
   ]
  },
  {
   "cell_type": "markdown",
   "metadata": {},
   "source": [
    "Use `save_list_to_file` to save `only_ones_list` to a file with filename `only_ones_list.txt`."
   ]
  },
  {
   "cell_type": "code",
   "execution_count": null,
   "metadata": {},
   "outputs": [],
   "source": [
    "save_list_to_file(only_ones_list, 'only_ones_list.txt')"
   ]
  },
  {
   "cell_type": "markdown",
   "metadata": {},
   "source": [
    "Use `save_list_to_file` to save `only_abc_list` to a file with filename `only_abc_list.txt`."
   ]
  },
  {
   "cell_type": "code",
   "execution_count": null,
   "metadata": {},
   "outputs": [],
   "source": [
    "save_list_to_file(only_abc_list, 'only_abc_list.txt')"
   ]
  },
  {
   "cell_type": "markdown",
   "metadata": {},
   "source": [
    "## Generators"
   ]
  },
  {
   "cell_type": "markdown",
   "metadata": {},
   "source": [
    "Create a generator function with name `return_one_item_generator` that returns only one item, 'abc'.\n",
    "\n",
    "- Function should not get any arguments.\n",
    "- Function should create a generator.\n",
    "- Generator, when called, should return only one item, `abc`.\n",
    "- Use generator until it throws StopIteration error."
   ]
  },
  {
   "cell_type": "code",
   "execution_count": null,
   "metadata": {},
   "outputs": [],
   "source": [
    "def return_one_item_generator():\n",
    "    yield 'abc'\n",
    "\n",
    "gen = return_one_item_generator()\n",
    "gen, next(gen)"
   ]
  },
  {
   "cell_type": "code",
   "execution_count": null,
   "metadata": {},
   "outputs": [],
   "source": [
    "next(gen)"
   ]
  },
  {
   "cell_type": "markdown",
   "metadata": {},
   "source": [
    "Create a generator function with name `counter` that returns current count, starting from `1`.\n",
    "\n",
    "- Function should not get any arguments.\n",
    "- Function should create a generator.\n",
    "- Generator, when called, should return integer, from 1 to n.\n",
    "- Use generator to generate first 7 numbers."
   ]
  },
  {
   "cell_type": "code",
   "execution_count": null,
   "metadata": {},
   "outputs": [],
   "source": [
    "def counter():\n",
    "    n = 1\n",
    "    while True:\n",
    "        yield n\n",
    "        n += 1\n",
    "\n",
    "gen = counter()"
   ]
  },
  {
   "cell_type": "code",
   "execution_count": null,
   "metadata": {},
   "outputs": [],
   "source": [
    "next(gen), next(gen), next(gen), next(gen), next(gen), next(gen), next(gen)"
   ]
  },
  {
   "cell_type": "markdown",
   "metadata": {},
   "source": [
    "Create a generator function with name `counter_until` that returns current count, starting from `1`, until given number.\n",
    "\n",
    "- Function should get one arguments, `stop_number`.\n",
    "- Function should create a generator.\n",
    "- Generator, when called, should return integer, from 1 to n, if n > `stop_number`, then it should stop generating new numbers.\n",
    "- Use generator to generate first 7 numbers, without throwing StopIteration."
   ]
  },
  {
   "cell_type": "code",
   "execution_count": null,
   "metadata": {},
   "outputs": [],
   "source": [
    "def counter_until(stop_number):\n",
    "    n = 1\n",
    "    while True:\n",
    "        if n > stop_number:\n",
    "            return n\n",
    "        yield n\n",
    "        n += 1\n",
    "\n",
    "gen = counter_until(7)"
   ]
  },
  {
   "cell_type": "code",
   "execution_count": null,
   "metadata": {},
   "outputs": [],
   "source": [
    "for num in gen:\n",
    "    print(num)"
   ]
  },
  {
   "cell_type": "markdown",
   "metadata": {},
   "source": [
    "## Builtin Functions"
   ]
  },
  {
   "cell_type": "code",
   "execution_count": null,
   "metadata": {},
   "outputs": [],
   "source": [
    "a = [1, 2, 3, 4]\n",
    "b = ('a', 'b', 'c', 'd', 'e')\n",
    "c = {5, 6, 6, 7, 8, 9, 10, 10, 11}\n",
    "d = {0: 'f', 1: 'g', 2: 'h', 3: 'i'}\n",
    "e = (True, 1, False)\n",
    "f = (True, 1, True, True)"
   ]
  },
  {
   "cell_type": "markdown",
   "metadata": {},
   "source": [
    "Use `range` function to generate numbers between 2 to 10. Convert results to list and show your result."
   ]
  },
  {
   "cell_type": "code",
   "execution_count": null,
   "metadata": {},
   "outputs": [],
   "source": [
    "list(range(2, 11))"
   ]
  },
  {
   "cell_type": "markdown",
   "metadata": {},
   "source": [
    "Use `range` function to generate numbers between 2 to 10, with 3 steps. Convert results to list and show your result."
   ]
  },
  {
   "cell_type": "code",
   "execution_count": null,
   "metadata": {},
   "outputs": [],
   "source": [
    "list(range(2, 11, 3))"
   ]
  },
  {
   "cell_type": "markdown",
   "metadata": {},
   "source": [
    "Use `zip` function and zip `a` and `b` together. Convert results to list and show your result."
   ]
  },
  {
   "cell_type": "code",
   "execution_count": null,
   "metadata": {},
   "outputs": [],
   "source": [
    "list(zip(a, b))"
   ]
  },
  {
   "cell_type": "markdown",
   "metadata": {},
   "source": [
    "Use `sum` function to find sum of `a`, `min` function to find min of `b`, and `max` to find max of `c`."
   ]
  },
  {
   "cell_type": "code",
   "execution_count": null,
   "metadata": {},
   "outputs": [],
   "source": [
    "sum(a), min(b), max(c)"
   ]
  },
  {
   "cell_type": "markdown",
   "metadata": {},
   "source": [
    "Use `sorted` function to reverse `b`."
   ]
  },
  {
   "cell_type": "code",
   "execution_count": null,
   "metadata": {},
   "outputs": [],
   "source": [
    "sorted(b, reverse=True)"
   ]
  },
  {
   "cell_type": "markdown",
   "metadata": {},
   "source": [
    "Use `any` to find truth value of `e`, `all` to find truth value of `f`."
   ]
  },
  {
   "cell_type": "code",
   "execution_count": null,
   "metadata": {},
   "outputs": [],
   "source": [
    "any(e), all(f)"
   ]
  },
  {
   "cell_type": "markdown",
   "metadata": {},
   "source": [
    "Use `input` function to get your birth year. Convert your results to integer."
   ]
  },
  {
   "cell_type": "code",
   "execution_count": null,
   "metadata": {},
   "outputs": [],
   "source": [
    "int(input('birth year: '))"
   ]
  },
  {
   "cell_type": "markdown",
   "metadata": {},
   "source": [
    "Use `isinstance` function and check if `a` is list, `b` is tuple or set."
   ]
  },
  {
   "cell_type": "code",
   "execution_count": null,
   "metadata": {},
   "outputs": [],
   "source": [
    "isinstance(a, list), isinstance(b, (tuple, set))"
   ]
  }
 ],
 "metadata": {
  "kernelspec": {
   "display_name": "Python 3",
   "language": "python",
   "name": "python3"
  },
  "language_info": {
   "codemirror_mode": {
    "name": "ipython",
    "version": 3
   },
   "file_extension": ".py",
   "mimetype": "text/x-python",
   "name": "python",
   "nbconvert_exporter": "python",
   "pygments_lexer": "ipython3",
   "version": "3.9.0"
  }
 },
 "nbformat": 4,
 "nbformat_minor": 2
}
